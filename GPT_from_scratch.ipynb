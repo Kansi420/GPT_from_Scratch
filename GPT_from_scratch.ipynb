{
  "nbformat": 4,
  "nbformat_minor": 0,
  "metadata": {
    "colab": {
      "provenance": [],
      "gpuType": "T4",
      "authorship_tag": "ABX9TyPK8BaVBtBShTT7Df+GD/kD",
      "include_colab_link": true
    },
    "kernelspec": {
      "name": "python3",
      "display_name": "Python 3"
    },
    "language_info": {
      "name": "python"
    },
    "accelerator": "GPU"
  },
  "cells": [
    {
      "cell_type": "markdown",
      "metadata": {
        "id": "view-in-github",
        "colab_type": "text"
      },
      "source": [
        "<a href=\"https://colab.research.google.com/github/Kansi420/GPT_from_Scratch/blob/main/GPT_from_scratch.ipynb\" target=\"_parent\"><img src=\"https://colab.research.google.com/assets/colab-badge.svg\" alt=\"Open In Colab\"/></a>"
      ]
    },
    {
      "cell_type": "code",
      "execution_count": 26,
      "metadata": {
        "id": "-Vg0aUlXlTNF"
      },
      "outputs": [],
      "source": [
        "import torch\n",
        "import torch.nn as nn\n",
        "from torch.nn import functional as F"
      ]
    },
    {
      "cell_type": "code",
      "source": [
        "# hyperparameters\n",
        "batch_size = 64\n",
        "block_size = 256\n",
        "max_iters = 5000\n",
        "eval_interval = 500\n",
        "learning_rate = 3e-4\n",
        "device = 'cuda' if torch.cuda.is_available() else 'cpu'\n",
        "eval_iters = 200\n",
        "n_embd = 384\n",
        "n_head = 6\n",
        "n_layer = 6\n",
        "dropout = 0.2\n",
        "vocab_size = 26\n"
      ],
      "metadata": {
        "id": "zfINd_4Lla7m"
      },
      "execution_count": 27,
      "outputs": []
    },
    {
      "cell_type": "code",
      "source": [
        "!wget https://raw.githubusercontent.com/Kansi420/GPT_from_Scratch/main/input.txt\n",
        "with open('input.txt', 'r', encoding='utf-8') as f:\n",
        "    text = f.read()\n",
        "\n",
        "# here are all the unique characters that occur in this text\n",
        "chars = sorted(list(set(text)))\n",
        "vocab_size = len(chars)\n",
        "\n",
        "# create a mapping from characters to integers\n",
        "stoi = { ch:i for i,ch in enumerate(chars) }\n",
        "itos = { i:ch for i,ch in enumerate(chars) }\n",
        "encode = lambda s: [stoi[c] for c in s] # encoder: take a string, output a list of integers\n",
        "decode = lambda l: ''.join([itos[i] for i in l]) # decoder: take a list of integers, output a string\n",
        "\n",
        "# Train and test splits\n",
        "data = torch.tensor(encode(text), dtype=torch.long)\n",
        "n = int(0.9*len(data)) # first 90% will be train, rest val\n",
        "train_data = data[:n]\n",
        "val_data = data[n:]"
      ],
      "metadata": {
        "colab": {
          "base_uri": "https://localhost:8080/"
        },
        "id": "lUfFBfjelcgN",
        "outputId": "272110eb-c438-47e0-ba16-878c819dcb80"
      },
      "execution_count": 28,
      "outputs": [
        {
          "output_type": "stream",
          "name": "stdout",
          "text": [
            "--2024-04-22 17:23:51--  https://raw.githubusercontent.com/Kansi420/GPT_from_Scratch/main/input.txt\n",
            "Resolving raw.githubusercontent.com (raw.githubusercontent.com)... 185.199.108.133, 185.199.109.133, 185.199.110.133, ...\n",
            "Connecting to raw.githubusercontent.com (raw.githubusercontent.com)|185.199.108.133|:443... connected.\n",
            "HTTP request sent, awaiting response... 200 OK\n",
            "Length: 1115394 (1.1M) [text/plain]\n",
            "Saving to: ‘input.txt.2’\n",
            "\n",
            "\rinput.txt.2           0%[                    ]       0  --.-KB/s               \rinput.txt.2         100%[===================>]   1.06M  --.-KB/s    in 0.06s   \n",
            "\n",
            "2024-04-22 17:23:51 (16.8 MB/s) - ‘input.txt.2’ saved [1115394/1115394]\n",
            "\n"
          ]
        }
      ]
    },
    {
      "cell_type": "code",
      "source": [
        "torch.manual_seed(1441)"
      ],
      "metadata": {
        "colab": {
          "base_uri": "https://localhost:8080/"
        },
        "id": "OP6zN-qWleTk",
        "outputId": "2956756f-022e-4bc7-bca1-a955f5e22f10"
      },
      "execution_count": 29,
      "outputs": [
        {
          "output_type": "execute_result",
          "data": {
            "text/plain": [
              "<torch._C.Generator at 0x79bd2c22dc30>"
            ]
          },
          "metadata": {},
          "execution_count": 29
        }
      ]
    },
    {
      "cell_type": "code",
      "source": [
        "# data loading\n",
        "def get_batch(split):\n",
        "    data = train_data if split == 'train' else val_data\n",
        "    ix = torch.randint(len(data) - block_size, (batch_size,))\n",
        "    x = torch.stack([data[i:i+block_size] for i in ix])\n",
        "    y = torch.stack([data[i+1:i+block_size+1] for i in ix])\n",
        "    x, y = x.to(device), y.to(device)\n",
        "    return x, y"
      ],
      "metadata": {
        "id": "whabtu__lgCv"
      },
      "execution_count": 30,
      "outputs": []
    },
    {
      "cell_type": "code",
      "source": [
        "@torch.no_grad()\n",
        "def estimate_loss():\n",
        "    out = {}\n",
        "    model.eval()\n",
        "    for split in ['train', 'val']:\n",
        "        losses = torch.zeros(eval_iters)\n",
        "        for k in range(eval_iters):\n",
        "            X, Y = get_batch(split)\n",
        "            logits, loss = model(X, Y)\n",
        "            losses[k] = loss.item()\n",
        "        out[split] = losses.mean()\n",
        "    model.train()\n",
        "    return out"
      ],
      "metadata": {
        "id": "FDHxFnj4lguF"
      },
      "execution_count": 31,
      "outputs": []
    },
    {
      "cell_type": "code",
      "source": [
        "class Head(nn.Module):\n",
        "    \"\"\" one head of self-attention \"\"\"\n",
        "\n",
        "    def __init__(self, head_size):\n",
        "        super().__init__()\n",
        "        self.key = nn.Linear(n_embd, head_size, bias=False)\n",
        "        self.query = nn.Linear(n_embd, head_size, bias=False)\n",
        "        self.value = nn.Linear(n_embd, head_size, bias=False)\n",
        "        self.register_buffer('tril', torch.tril(torch.ones(block_size, block_size)))\n",
        "\n",
        "        self.dropout = nn.Dropout(dropout)\n",
        "\n",
        "    def forward(self, x):\n",
        "        B,T,C = x.shape\n",
        "        k = self.key(x)\n",
        "        q = self.query(x)\n",
        "        wei = q @ k.transpose(-2,-1) * k.shape[-1]**-0.5\n",
        "        wei = wei.masked_fill(self.tril[:T, :T] == 0, float('-inf'))\n",
        "        wei = F.softmax(wei, dim=-1)\n",
        "        wei = self.dropout(wei)\n",
        "        v = self.value(x)\n",
        "        out = wei @ v\n",
        "        return out"
      ],
      "metadata": {
        "id": "PIlwGMQrlidY"
      },
      "execution_count": 32,
      "outputs": []
    },
    {
      "cell_type": "code",
      "source": [
        "class MultiHeadAttention(nn.Module):\n",
        "    \"\"\" multiple heads of self-attention in parallel \"\"\"\n",
        "\n",
        "    def __init__(self, num_heads, head_size):\n",
        "        super().__init__()\n",
        "        self.heads = nn.ModuleList([Head(head_size) for _ in range(num_heads)])\n",
        "        self.proj = nn.Linear(head_size * num_heads, n_embd)\n",
        "        self.dropout = nn.Dropout(dropout)\n",
        "\n",
        "    def forward(self, x):\n",
        "        out = torch.cat([h(x) for h in self.heads], dim=-1)\n",
        "        out = self.dropout(self.proj(out))\n",
        "        return out"
      ],
      "metadata": {
        "id": "oGmfP3hflkmE"
      },
      "execution_count": 33,
      "outputs": []
    },
    {
      "cell_type": "code",
      "source": [
        "class FeedFoward(nn.Module):\n",
        "    \"\"\" a simple linear layer followed by a non-linearity \"\"\"\n",
        "\n",
        "    def __init__(self, n_embd):\n",
        "        super().__init__()\n",
        "        self.net = nn.Sequential(\n",
        "            nn.Linear(n_embd, 4 * n_embd),\n",
        "            nn.ReLU(),\n",
        "            nn.Linear(4 * n_embd, n_embd),\n",
        "            nn.Dropout(dropout),\n",
        "        )\n",
        "\n",
        "    def forward(self, x):\n",
        "        return self.net(x)"
      ],
      "metadata": {
        "id": "BguYOJaAlmfn"
      },
      "execution_count": 34,
      "outputs": []
    },
    {
      "cell_type": "code",
      "source": [
        "class Block(nn.Module):\n",
        "    \"\"\" Transformer block: communication followed by computation \"\"\"\n",
        "\n",
        "    def __init__(self, n_embd, n_head):\n",
        "        super().__init__()\n",
        "        head_size = n_embd // n_head\n",
        "        self.sa = MultiHeadAttention(n_head, head_size)\n",
        "        self.ffwd = FeedFoward(n_embd)\n",
        "        self.ln1 = nn.LayerNorm(n_embd)\n",
        "        self.ln2 = nn.LayerNorm(n_embd)\n",
        "\n",
        "    def forward(self, x):\n",
        "        x = x + self.sa(self.ln1(x))\n",
        "        x = x + self.ffwd(self.ln2(x))\n",
        "        return x"
      ],
      "metadata": {
        "id": "9YtCawGHloH8"
      },
      "execution_count": 35,
      "outputs": []
    },
    {
      "cell_type": "code",
      "source": [
        "class GPTLanguageModel(nn.Module):\n",
        "\n",
        "    def __init__(self):\n",
        "        super().__init__()\n",
        "        self.token_embedding_table = nn.Embedding(vocab_size, n_embd)\n",
        "        self.position_embedding_table = nn.Embedding(block_size, n_embd)\n",
        "        self.blocks = nn.Sequential(*[Block(n_embd, n_head=n_head) for _ in range(n_layer)])\n",
        "        self.ln_f = nn.LayerNorm(n_embd)\n",
        "        self.lm_head = nn.Linear(n_embd, vocab_size)\n",
        "\n",
        "        self.apply(self._init_weights)\n",
        "\n",
        "    def _init_weights(self, module):\n",
        "        if isinstance(module, nn.Linear):\n",
        "            torch.nn.init.normal_(module.weight, mean=0.0, std=0.02)\n",
        "            if module.bias is not None:\n",
        "                torch.nn.init.zeros_(module.bias)\n",
        "        elif isinstance(module, nn.Embedding):\n",
        "            torch.nn.init.normal_(module.weight, mean=0.0, std=0.02)\n",
        "\n",
        "    def forward(self, idx, targets=None):\n",
        "        B, T = idx.shape\n",
        "\n",
        "        tok_emb = self.token_embedding_table(idx)\n",
        "        pos_emb = self.position_embedding_table(torch.arange(T, device=device)) # (T,C)\n",
        "        x = tok_emb + pos_emb\n",
        "        x = self.blocks(x)\n",
        "        x = self.ln_f(x)\n",
        "        logits = self.lm_head(x)\n",
        "\n",
        "        if targets is None:\n",
        "            loss = None\n",
        "        else:\n",
        "            B, T, C = logits.shape\n",
        "            logits = logits.view(B*T, C)\n",
        "            targets = targets.view(B*T)\n",
        "            loss = F.cross_entropy(logits, targets)\n",
        "\n",
        "        return logits, loss\n",
        "\n",
        "    def generate(self, idx, max_new_tokens):\n",
        "        for _ in range(max_new_tokens):\n",
        "            idx_cond = idx[:, -block_size:]\n",
        "            logits, loss = self(idx_cond)\n",
        "            logits = logits[:, -1, :]\n",
        "            probs = F.softmax(logits, dim=-1)\n",
        "            idx_next = torch.multinomial(probs, num_samples=1)\n",
        "            idx = torch.cat((idx, idx_next), dim=1)\n",
        "        return idx"
      ],
      "metadata": {
        "id": "Gm1I7YamlptM"
      },
      "execution_count": 36,
      "outputs": []
    },
    {
      "cell_type": "code",
      "source": [
        "def print_model(model):\n",
        "    for name, module in model.named_modules():\n",
        "        if isinstance(module, (nn.Linear, nn.Embedding, nn.LayerNorm, nn.MultiheadAttention, nn.Dropout, nn.ReLU)):\n",
        "            print(f\"{name}: {module}\")"
      ],
      "metadata": {
        "id": "xmFlM8uUlr2E"
      },
      "execution_count": 37,
      "outputs": []
    },
    {
      "cell_type": "code",
      "source": [
        "model = GPTLanguageModel()\n",
        "m = model.to(device)\n",
        "# number of parameters in the model\n",
        "print(sum(p.numel() for p in m.parameters())/1e6, 'M parameters')"
      ],
      "metadata": {
        "colab": {
          "base_uri": "https://localhost:8080/"
        },
        "id": "3PB3-6dwltb-",
        "outputId": "2fb0d819-54aa-4880-8670-e137b8dcb82f"
      },
      "execution_count": 38,
      "outputs": [
        {
          "output_type": "stream",
          "name": "stdout",
          "text": [
            "10.788929 M parameters\n"
          ]
        }
      ]
    },
    {
      "cell_type": "code",
      "source": [
        "print_model(model)"
      ],
      "metadata": {
        "colab": {
          "base_uri": "https://localhost:8080/"
        },
        "id": "n8y5wpCplvs6",
        "outputId": "b1e1ee91-7661-49d7-b88e-59c0d60c6ffb"
      },
      "execution_count": 39,
      "outputs": [
        {
          "output_type": "stream",
          "name": "stdout",
          "text": [
            "token_embedding_table: Embedding(65, 384)\n",
            "position_embedding_table: Embedding(256, 384)\n",
            "blocks.0.sa.heads.0.key: Linear(in_features=384, out_features=64, bias=False)\n",
            "blocks.0.sa.heads.0.query: Linear(in_features=384, out_features=64, bias=False)\n",
            "blocks.0.sa.heads.0.value: Linear(in_features=384, out_features=64, bias=False)\n",
            "blocks.0.sa.heads.0.dropout: Dropout(p=0.2, inplace=False)\n",
            "blocks.0.sa.heads.1.key: Linear(in_features=384, out_features=64, bias=False)\n",
            "blocks.0.sa.heads.1.query: Linear(in_features=384, out_features=64, bias=False)\n",
            "blocks.0.sa.heads.1.value: Linear(in_features=384, out_features=64, bias=False)\n",
            "blocks.0.sa.heads.1.dropout: Dropout(p=0.2, inplace=False)\n",
            "blocks.0.sa.heads.2.key: Linear(in_features=384, out_features=64, bias=False)\n",
            "blocks.0.sa.heads.2.query: Linear(in_features=384, out_features=64, bias=False)\n",
            "blocks.0.sa.heads.2.value: Linear(in_features=384, out_features=64, bias=False)\n",
            "blocks.0.sa.heads.2.dropout: Dropout(p=0.2, inplace=False)\n",
            "blocks.0.sa.heads.3.key: Linear(in_features=384, out_features=64, bias=False)\n",
            "blocks.0.sa.heads.3.query: Linear(in_features=384, out_features=64, bias=False)\n",
            "blocks.0.sa.heads.3.value: Linear(in_features=384, out_features=64, bias=False)\n",
            "blocks.0.sa.heads.3.dropout: Dropout(p=0.2, inplace=False)\n",
            "blocks.0.sa.heads.4.key: Linear(in_features=384, out_features=64, bias=False)\n",
            "blocks.0.sa.heads.4.query: Linear(in_features=384, out_features=64, bias=False)\n",
            "blocks.0.sa.heads.4.value: Linear(in_features=384, out_features=64, bias=False)\n",
            "blocks.0.sa.heads.4.dropout: Dropout(p=0.2, inplace=False)\n",
            "blocks.0.sa.heads.5.key: Linear(in_features=384, out_features=64, bias=False)\n",
            "blocks.0.sa.heads.5.query: Linear(in_features=384, out_features=64, bias=False)\n",
            "blocks.0.sa.heads.5.value: Linear(in_features=384, out_features=64, bias=False)\n",
            "blocks.0.sa.heads.5.dropout: Dropout(p=0.2, inplace=False)\n",
            "blocks.0.sa.proj: Linear(in_features=384, out_features=384, bias=True)\n",
            "blocks.0.sa.dropout: Dropout(p=0.2, inplace=False)\n",
            "blocks.0.ffwd.net.0: Linear(in_features=384, out_features=1536, bias=True)\n",
            "blocks.0.ffwd.net.1: ReLU()\n",
            "blocks.0.ffwd.net.2: Linear(in_features=1536, out_features=384, bias=True)\n",
            "blocks.0.ffwd.net.3: Dropout(p=0.2, inplace=False)\n",
            "blocks.0.ln1: LayerNorm((384,), eps=1e-05, elementwise_affine=True)\n",
            "blocks.0.ln2: LayerNorm((384,), eps=1e-05, elementwise_affine=True)\n",
            "blocks.1.sa.heads.0.key: Linear(in_features=384, out_features=64, bias=False)\n",
            "blocks.1.sa.heads.0.query: Linear(in_features=384, out_features=64, bias=False)\n",
            "blocks.1.sa.heads.0.value: Linear(in_features=384, out_features=64, bias=False)\n",
            "blocks.1.sa.heads.0.dropout: Dropout(p=0.2, inplace=False)\n",
            "blocks.1.sa.heads.1.key: Linear(in_features=384, out_features=64, bias=False)\n",
            "blocks.1.sa.heads.1.query: Linear(in_features=384, out_features=64, bias=False)\n",
            "blocks.1.sa.heads.1.value: Linear(in_features=384, out_features=64, bias=False)\n",
            "blocks.1.sa.heads.1.dropout: Dropout(p=0.2, inplace=False)\n",
            "blocks.1.sa.heads.2.key: Linear(in_features=384, out_features=64, bias=False)\n",
            "blocks.1.sa.heads.2.query: Linear(in_features=384, out_features=64, bias=False)\n",
            "blocks.1.sa.heads.2.value: Linear(in_features=384, out_features=64, bias=False)\n",
            "blocks.1.sa.heads.2.dropout: Dropout(p=0.2, inplace=False)\n",
            "blocks.1.sa.heads.3.key: Linear(in_features=384, out_features=64, bias=False)\n",
            "blocks.1.sa.heads.3.query: Linear(in_features=384, out_features=64, bias=False)\n",
            "blocks.1.sa.heads.3.value: Linear(in_features=384, out_features=64, bias=False)\n",
            "blocks.1.sa.heads.3.dropout: Dropout(p=0.2, inplace=False)\n",
            "blocks.1.sa.heads.4.key: Linear(in_features=384, out_features=64, bias=False)\n",
            "blocks.1.sa.heads.4.query: Linear(in_features=384, out_features=64, bias=False)\n",
            "blocks.1.sa.heads.4.value: Linear(in_features=384, out_features=64, bias=False)\n",
            "blocks.1.sa.heads.4.dropout: Dropout(p=0.2, inplace=False)\n",
            "blocks.1.sa.heads.5.key: Linear(in_features=384, out_features=64, bias=False)\n",
            "blocks.1.sa.heads.5.query: Linear(in_features=384, out_features=64, bias=False)\n",
            "blocks.1.sa.heads.5.value: Linear(in_features=384, out_features=64, bias=False)\n",
            "blocks.1.sa.heads.5.dropout: Dropout(p=0.2, inplace=False)\n",
            "blocks.1.sa.proj: Linear(in_features=384, out_features=384, bias=True)\n",
            "blocks.1.sa.dropout: Dropout(p=0.2, inplace=False)\n",
            "blocks.1.ffwd.net.0: Linear(in_features=384, out_features=1536, bias=True)\n",
            "blocks.1.ffwd.net.1: ReLU()\n",
            "blocks.1.ffwd.net.2: Linear(in_features=1536, out_features=384, bias=True)\n",
            "blocks.1.ffwd.net.3: Dropout(p=0.2, inplace=False)\n",
            "blocks.1.ln1: LayerNorm((384,), eps=1e-05, elementwise_affine=True)\n",
            "blocks.1.ln2: LayerNorm((384,), eps=1e-05, elementwise_affine=True)\n",
            "blocks.2.sa.heads.0.key: Linear(in_features=384, out_features=64, bias=False)\n",
            "blocks.2.sa.heads.0.query: Linear(in_features=384, out_features=64, bias=False)\n",
            "blocks.2.sa.heads.0.value: Linear(in_features=384, out_features=64, bias=False)\n",
            "blocks.2.sa.heads.0.dropout: Dropout(p=0.2, inplace=False)\n",
            "blocks.2.sa.heads.1.key: Linear(in_features=384, out_features=64, bias=False)\n",
            "blocks.2.sa.heads.1.query: Linear(in_features=384, out_features=64, bias=False)\n",
            "blocks.2.sa.heads.1.value: Linear(in_features=384, out_features=64, bias=False)\n",
            "blocks.2.sa.heads.1.dropout: Dropout(p=0.2, inplace=False)\n",
            "blocks.2.sa.heads.2.key: Linear(in_features=384, out_features=64, bias=False)\n",
            "blocks.2.sa.heads.2.query: Linear(in_features=384, out_features=64, bias=False)\n",
            "blocks.2.sa.heads.2.value: Linear(in_features=384, out_features=64, bias=False)\n",
            "blocks.2.sa.heads.2.dropout: Dropout(p=0.2, inplace=False)\n",
            "blocks.2.sa.heads.3.key: Linear(in_features=384, out_features=64, bias=False)\n",
            "blocks.2.sa.heads.3.query: Linear(in_features=384, out_features=64, bias=False)\n",
            "blocks.2.sa.heads.3.value: Linear(in_features=384, out_features=64, bias=False)\n",
            "blocks.2.sa.heads.3.dropout: Dropout(p=0.2, inplace=False)\n",
            "blocks.2.sa.heads.4.key: Linear(in_features=384, out_features=64, bias=False)\n",
            "blocks.2.sa.heads.4.query: Linear(in_features=384, out_features=64, bias=False)\n",
            "blocks.2.sa.heads.4.value: Linear(in_features=384, out_features=64, bias=False)\n",
            "blocks.2.sa.heads.4.dropout: Dropout(p=0.2, inplace=False)\n",
            "blocks.2.sa.heads.5.key: Linear(in_features=384, out_features=64, bias=False)\n",
            "blocks.2.sa.heads.5.query: Linear(in_features=384, out_features=64, bias=False)\n",
            "blocks.2.sa.heads.5.value: Linear(in_features=384, out_features=64, bias=False)\n",
            "blocks.2.sa.heads.5.dropout: Dropout(p=0.2, inplace=False)\n",
            "blocks.2.sa.proj: Linear(in_features=384, out_features=384, bias=True)\n",
            "blocks.2.sa.dropout: Dropout(p=0.2, inplace=False)\n",
            "blocks.2.ffwd.net.0: Linear(in_features=384, out_features=1536, bias=True)\n",
            "blocks.2.ffwd.net.1: ReLU()\n",
            "blocks.2.ffwd.net.2: Linear(in_features=1536, out_features=384, bias=True)\n",
            "blocks.2.ffwd.net.3: Dropout(p=0.2, inplace=False)\n",
            "blocks.2.ln1: LayerNorm((384,), eps=1e-05, elementwise_affine=True)\n",
            "blocks.2.ln2: LayerNorm((384,), eps=1e-05, elementwise_affine=True)\n",
            "blocks.3.sa.heads.0.key: Linear(in_features=384, out_features=64, bias=False)\n",
            "blocks.3.sa.heads.0.query: Linear(in_features=384, out_features=64, bias=False)\n",
            "blocks.3.sa.heads.0.value: Linear(in_features=384, out_features=64, bias=False)\n",
            "blocks.3.sa.heads.0.dropout: Dropout(p=0.2, inplace=False)\n",
            "blocks.3.sa.heads.1.key: Linear(in_features=384, out_features=64, bias=False)\n",
            "blocks.3.sa.heads.1.query: Linear(in_features=384, out_features=64, bias=False)\n",
            "blocks.3.sa.heads.1.value: Linear(in_features=384, out_features=64, bias=False)\n",
            "blocks.3.sa.heads.1.dropout: Dropout(p=0.2, inplace=False)\n",
            "blocks.3.sa.heads.2.key: Linear(in_features=384, out_features=64, bias=False)\n",
            "blocks.3.sa.heads.2.query: Linear(in_features=384, out_features=64, bias=False)\n",
            "blocks.3.sa.heads.2.value: Linear(in_features=384, out_features=64, bias=False)\n",
            "blocks.3.sa.heads.2.dropout: Dropout(p=0.2, inplace=False)\n",
            "blocks.3.sa.heads.3.key: Linear(in_features=384, out_features=64, bias=False)\n",
            "blocks.3.sa.heads.3.query: Linear(in_features=384, out_features=64, bias=False)\n",
            "blocks.3.sa.heads.3.value: Linear(in_features=384, out_features=64, bias=False)\n",
            "blocks.3.sa.heads.3.dropout: Dropout(p=0.2, inplace=False)\n",
            "blocks.3.sa.heads.4.key: Linear(in_features=384, out_features=64, bias=False)\n",
            "blocks.3.sa.heads.4.query: Linear(in_features=384, out_features=64, bias=False)\n",
            "blocks.3.sa.heads.4.value: Linear(in_features=384, out_features=64, bias=False)\n",
            "blocks.3.sa.heads.4.dropout: Dropout(p=0.2, inplace=False)\n",
            "blocks.3.sa.heads.5.key: Linear(in_features=384, out_features=64, bias=False)\n",
            "blocks.3.sa.heads.5.query: Linear(in_features=384, out_features=64, bias=False)\n",
            "blocks.3.sa.heads.5.value: Linear(in_features=384, out_features=64, bias=False)\n",
            "blocks.3.sa.heads.5.dropout: Dropout(p=0.2, inplace=False)\n",
            "blocks.3.sa.proj: Linear(in_features=384, out_features=384, bias=True)\n",
            "blocks.3.sa.dropout: Dropout(p=0.2, inplace=False)\n",
            "blocks.3.ffwd.net.0: Linear(in_features=384, out_features=1536, bias=True)\n",
            "blocks.3.ffwd.net.1: ReLU()\n",
            "blocks.3.ffwd.net.2: Linear(in_features=1536, out_features=384, bias=True)\n",
            "blocks.3.ffwd.net.3: Dropout(p=0.2, inplace=False)\n",
            "blocks.3.ln1: LayerNorm((384,), eps=1e-05, elementwise_affine=True)\n",
            "blocks.3.ln2: LayerNorm((384,), eps=1e-05, elementwise_affine=True)\n",
            "blocks.4.sa.heads.0.key: Linear(in_features=384, out_features=64, bias=False)\n",
            "blocks.4.sa.heads.0.query: Linear(in_features=384, out_features=64, bias=False)\n",
            "blocks.4.sa.heads.0.value: Linear(in_features=384, out_features=64, bias=False)\n",
            "blocks.4.sa.heads.0.dropout: Dropout(p=0.2, inplace=False)\n",
            "blocks.4.sa.heads.1.key: Linear(in_features=384, out_features=64, bias=False)\n",
            "blocks.4.sa.heads.1.query: Linear(in_features=384, out_features=64, bias=False)\n",
            "blocks.4.sa.heads.1.value: Linear(in_features=384, out_features=64, bias=False)\n",
            "blocks.4.sa.heads.1.dropout: Dropout(p=0.2, inplace=False)\n",
            "blocks.4.sa.heads.2.key: Linear(in_features=384, out_features=64, bias=False)\n",
            "blocks.4.sa.heads.2.query: Linear(in_features=384, out_features=64, bias=False)\n",
            "blocks.4.sa.heads.2.value: Linear(in_features=384, out_features=64, bias=False)\n",
            "blocks.4.sa.heads.2.dropout: Dropout(p=0.2, inplace=False)\n",
            "blocks.4.sa.heads.3.key: Linear(in_features=384, out_features=64, bias=False)\n",
            "blocks.4.sa.heads.3.query: Linear(in_features=384, out_features=64, bias=False)\n",
            "blocks.4.sa.heads.3.value: Linear(in_features=384, out_features=64, bias=False)\n",
            "blocks.4.sa.heads.3.dropout: Dropout(p=0.2, inplace=False)\n",
            "blocks.4.sa.heads.4.key: Linear(in_features=384, out_features=64, bias=False)\n",
            "blocks.4.sa.heads.4.query: Linear(in_features=384, out_features=64, bias=False)\n",
            "blocks.4.sa.heads.4.value: Linear(in_features=384, out_features=64, bias=False)\n",
            "blocks.4.sa.heads.4.dropout: Dropout(p=0.2, inplace=False)\n",
            "blocks.4.sa.heads.5.key: Linear(in_features=384, out_features=64, bias=False)\n",
            "blocks.4.sa.heads.5.query: Linear(in_features=384, out_features=64, bias=False)\n",
            "blocks.4.sa.heads.5.value: Linear(in_features=384, out_features=64, bias=False)\n",
            "blocks.4.sa.heads.5.dropout: Dropout(p=0.2, inplace=False)\n",
            "blocks.4.sa.proj: Linear(in_features=384, out_features=384, bias=True)\n",
            "blocks.4.sa.dropout: Dropout(p=0.2, inplace=False)\n",
            "blocks.4.ffwd.net.0: Linear(in_features=384, out_features=1536, bias=True)\n",
            "blocks.4.ffwd.net.1: ReLU()\n",
            "blocks.4.ffwd.net.2: Linear(in_features=1536, out_features=384, bias=True)\n",
            "blocks.4.ffwd.net.3: Dropout(p=0.2, inplace=False)\n",
            "blocks.4.ln1: LayerNorm((384,), eps=1e-05, elementwise_affine=True)\n",
            "blocks.4.ln2: LayerNorm((384,), eps=1e-05, elementwise_affine=True)\n",
            "blocks.5.sa.heads.0.key: Linear(in_features=384, out_features=64, bias=False)\n",
            "blocks.5.sa.heads.0.query: Linear(in_features=384, out_features=64, bias=False)\n",
            "blocks.5.sa.heads.0.value: Linear(in_features=384, out_features=64, bias=False)\n",
            "blocks.5.sa.heads.0.dropout: Dropout(p=0.2, inplace=False)\n",
            "blocks.5.sa.heads.1.key: Linear(in_features=384, out_features=64, bias=False)\n",
            "blocks.5.sa.heads.1.query: Linear(in_features=384, out_features=64, bias=False)\n",
            "blocks.5.sa.heads.1.value: Linear(in_features=384, out_features=64, bias=False)\n",
            "blocks.5.sa.heads.1.dropout: Dropout(p=0.2, inplace=False)\n",
            "blocks.5.sa.heads.2.key: Linear(in_features=384, out_features=64, bias=False)\n",
            "blocks.5.sa.heads.2.query: Linear(in_features=384, out_features=64, bias=False)\n",
            "blocks.5.sa.heads.2.value: Linear(in_features=384, out_features=64, bias=False)\n",
            "blocks.5.sa.heads.2.dropout: Dropout(p=0.2, inplace=False)\n",
            "blocks.5.sa.heads.3.key: Linear(in_features=384, out_features=64, bias=False)\n",
            "blocks.5.sa.heads.3.query: Linear(in_features=384, out_features=64, bias=False)\n",
            "blocks.5.sa.heads.3.value: Linear(in_features=384, out_features=64, bias=False)\n",
            "blocks.5.sa.heads.3.dropout: Dropout(p=0.2, inplace=False)\n",
            "blocks.5.sa.heads.4.key: Linear(in_features=384, out_features=64, bias=False)\n",
            "blocks.5.sa.heads.4.query: Linear(in_features=384, out_features=64, bias=False)\n",
            "blocks.5.sa.heads.4.value: Linear(in_features=384, out_features=64, bias=False)\n",
            "blocks.5.sa.heads.4.dropout: Dropout(p=0.2, inplace=False)\n",
            "blocks.5.sa.heads.5.key: Linear(in_features=384, out_features=64, bias=False)\n",
            "blocks.5.sa.heads.5.query: Linear(in_features=384, out_features=64, bias=False)\n",
            "blocks.5.sa.heads.5.value: Linear(in_features=384, out_features=64, bias=False)\n",
            "blocks.5.sa.heads.5.dropout: Dropout(p=0.2, inplace=False)\n",
            "blocks.5.sa.proj: Linear(in_features=384, out_features=384, bias=True)\n",
            "blocks.5.sa.dropout: Dropout(p=0.2, inplace=False)\n",
            "blocks.5.ffwd.net.0: Linear(in_features=384, out_features=1536, bias=True)\n",
            "blocks.5.ffwd.net.1: ReLU()\n",
            "blocks.5.ffwd.net.2: Linear(in_features=1536, out_features=384, bias=True)\n",
            "blocks.5.ffwd.net.3: Dropout(p=0.2, inplace=False)\n",
            "blocks.5.ln1: LayerNorm((384,), eps=1e-05, elementwise_affine=True)\n",
            "blocks.5.ln2: LayerNorm((384,), eps=1e-05, elementwise_affine=True)\n",
            "ln_f: LayerNorm((384,), eps=1e-05, elementwise_affine=True)\n",
            "lm_head: Linear(in_features=384, out_features=65, bias=True)\n"
          ]
        }
      ]
    },
    {
      "cell_type": "code",
      "source": [
        "optimizer = torch.optim.AdamW(model.parameters(), lr=learning_rate)"
      ],
      "metadata": {
        "id": "86Ul7rRHlyiP"
      },
      "execution_count": 40,
      "outputs": []
    },
    {
      "cell_type": "code",
      "source": [
        "for iter in range(max_iters):\n",
        "\n",
        "    # every once in a while evaluate the loss on train and val sets\n",
        "    if iter % eval_interval == 0 or iter == max_iters - 1:\n",
        "        losses = estimate_loss()\n",
        "        print(f\"step {iter}: train loss {losses['train']:.4f}, val loss {losses['val']:.4f}\")\n",
        "\n",
        "    # sample a batch of data\n",
        "    xb, yb = get_batch('train')\n",
        "\n",
        "    # evaluate the loss\n",
        "    logits, loss = model(xb, yb)\n",
        "    optimizer.zero_grad(set_to_none=True)\n",
        "    loss.backward()\n",
        "    optimizer.step()"
      ],
      "metadata": {
        "colab": {
          "base_uri": "https://localhost:8080/"
        },
        "id": "GZkaCiJol0rB",
        "outputId": "770efe4b-fe94-4456-94a7-5a08db9f4f89"
      },
      "execution_count": 41,
      "outputs": [
        {
          "output_type": "stream",
          "name": "stdout",
          "text": [
            "step 0: train loss 4.2478, val loss 4.2445\n",
            "step 500: train loss 1.7690, val loss 1.9172\n",
            "step 1000: train loss 1.4020, val loss 1.6216\n",
            "step 1500: train loss 1.2720, val loss 1.5355\n",
            "step 2000: train loss 1.1971, val loss 1.5071\n",
            "step 2500: train loss 1.1296, val loss 1.4911\n",
            "step 3000: train loss 1.0726, val loss 1.4921\n",
            "step 3500: train loss 1.0232, val loss 1.4866\n",
            "step 4000: train loss 0.9689, val loss 1.5164\n",
            "step 4500: train loss 0.9214, val loss 1.5276\n",
            "step 4999: train loss 0.8676, val loss 1.5638\n"
          ]
        }
      ]
    },
    {
      "cell_type": "code",
      "source": [
        "# generate from the model\n",
        "context = torch.zeros((1, 1), dtype=torch.long, device=device)\n",
        "print(decode(m.generate(context, max_new_tokens=500)[0].tolist()))"
      ],
      "metadata": {
        "colab": {
          "base_uri": "https://localhost:8080/"
        },
        "id": "oCU9mGpFl1X1",
        "outputId": "60232f5a-5992-4e06-e89c-41c59429c757"
      },
      "execution_count": 42,
      "outputs": [
        {
          "output_type": "stream",
          "name": "stdout",
          "text": [
            "\n",
            "Meeser their reammer hate to off\n",
            "Estain lay and of fair queen's love!\n",
            "Or scuter fair frozen it! How manner'd lives\n",
            "Emesteemined, whilst thou should be sad in either's look!\n",
            "Now multius with the range of such grift kites\n",
            "As was thy rich disposition thousand hangmen;\n",
            "Further by myself, mutching all the swords of field,\n",
            "Which to my love's shame that wrought of blood\n",
            "Is purchased stations, by thy life.\n",
            "Would this the duke dick seat of a time thou\n",
            "bent him with this tune of kingdom thy rotter,\n",
            "Were I\n"
          ]
        }
      ]
    }
  ]
}